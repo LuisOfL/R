{
 "cells": [
  {
   "cell_type": "markdown",
   "id": "938396e9-2d82-4e22-9481-05a6c452138f",
   "metadata": {},
   "source": [
    "# Pares"
   ]
  },
  {
   "cell_type": "code",
   "execution_count": 1,
   "id": "98ffb340-2f0a-4fa0-ac36-a2ae347de141",
   "metadata": {},
   "outputs": [
    {
     "name": "stdout",
     "output_type": "stream",
     "text": [
      "[1]  2  8  4 10\n"
     ]
    }
   ],
   "source": [
    "op_vec <- function(v1){\n",
    "  l <- c()\n",
    "  for (x in 1:length(v1)){\n",
    "    if(v1[x] %% 2 == 0){\n",
    "      l <- c(l,v1[x])\n",
    "    }\n",
    "    \n",
    "  }\n",
    "  return(l)\n",
    "}\n",
    "\n",
    "a <- c(2,5,7,8,4,5,7,9,10)\n",
    "print(op_vec(a))"
   ]
  },
  {
   "cell_type": "markdown",
   "id": "96a3756d-5836-4fd9-ba0f-8b35b0054f8a",
   "metadata": {},
   "source": [
    "# Funciones matematicas\n"
   ]
  },
  {
   "cell_type": "code",
   "execution_count": 2,
   "id": "9cacc01d-1639-400f-90cf-2c714531fe94",
   "metadata": {},
   "outputs": [
    {
     "name": "stdout",
     "output_type": "stream",
     "text": [
      "[1] 12\n",
      "[1] 57\n",
      "[1] 34.234\n"
     ]
    }
   ],
   "source": [
    "n <- 144^0.5\n",
    "print(n)\n",
    "n1 <- abs(-57)\n",
    "print(n1)\n",
    "n2 <- round(34.2342342,3)\n",
    "print(n2)"
   ]
  },
  {
   "cell_type": "code",
   "execution_count": 5,
   "id": "45445abe-ccab-44dd-a3bc-4c2aedc19c2c",
   "metadata": {},
   "outputs": [
    {
     "name": "stdout",
     "output_type": "stream",
     "text": [
      " [1]  1  2  3  4  5  6  7  8  9 10\n",
      "[1] 55\n",
      "[1] 5.5\n",
      "[1] 10\n",
      "[1] 1\n"
     ]
    }
   ],
   "source": [
    "v = c()\n",
    "for(x in 1:10){\n",
    "    v <- c(v,x)\n",
    "}\n",
    "print(v)\n",
    "print(sum(v))\n",
    "print(mean(v))\n",
    "print(max(v))\n",
    "print(min(v))"
   ]
  },
  {
   "cell_type": "code",
   "execution_count": 7,
   "id": "3661d1f4-0370-48e0-b3c3-e23e7304ae9c",
   "metadata": {},
   "outputs": [
    {
     "name": "stdout",
     "output_type": "stream",
     "text": [
      " [1] 10  9  8  7  6  5  4  3  2  1\n"
     ]
    }
   ],
   "source": [
    "v = sort(v, decreasing = TRUE)\n",
    "print(v)"
   ]
  },
  {
   "cell_type": "markdown",
   "id": "0694e392-2832-41b6-ba55-e564231fc8cd",
   "metadata": {},
   "source": [
    "# Caracteres"
   ]
  },
  {
   "cell_type": "code",
   "execution_count": 10,
   "id": "490898c1-d47d-47e6-94a0-b94a55c3ee83",
   "metadata": {},
   "outputs": [
    {
     "name": "stdout",
     "output_type": "stream",
     "text": [
      "[1] \"LUIS\"\n",
      "[1] 4\n"
     ]
    }
   ],
   "source": [
    "nombre = 'Luis'\n",
    "nombre = toupper(nombre)\n",
    "print(nombre)\n",
    "print(nchar(nombre))"
   ]
  },
  {
   "cell_type": "markdown",
   "id": "762d3a46-5522-4517-a494-dd5ed1d43d9d",
   "metadata": {},
   "source": [
    "# Estructuras"
   ]
  },
  {
   "cell_type": "code",
   "execution_count": 15,
   "id": "5d35b66c-8c85-4f96-9fc2-ac348ea88387",
   "metadata": {},
   "outputs": [
    {
     "name": "stdout",
     "output_type": "stream",
     "text": [
      "     [,1] [,2] [,3]\n",
      "[1,]    1    4    7\n",
      "[2,]    2    5    8\n",
      "[3,]    3    6    9\n",
      "[1] 15\n"
     ]
    }
   ],
   "source": [
    "l = matrix(c(1,2,3,4,5,6,7,8,9),nrow = 3)\n",
    "print(l)\n",
    "suma = 0\n",
    "for(x in 1:3){\n",
    "    suma <- suma + l[2,x]\n",
    "}\n",
    "print(suma)"
   ]
  },
  {
   "cell_type": "markdown",
   "id": "7e77ad75-b57a-43e3-9841-b802cc9aa8fe",
   "metadata": {},
   "source": [
    "# DataFrame"
   ]
  },
  {
   "cell_type": "code",
   "execution_count": 20,
   "id": "41fb370b-800e-4b82-8a3a-aba13c79baff",
   "metadata": {},
   "outputs": [
    {
     "name": "stdout",
     "output_type": "stream",
     "text": [
      "  Name Age Carrier\n",
      "1 Luis  18  Career\n"
     ]
    }
   ],
   "source": [
    "df <- data.frame(\n",
    "    Name = c('Luis'),\n",
    "    Age = c(18),\n",
    "    Carrier = c('Career')\n",
    ")\n",
    "print(df)"
   ]
  },
  {
   "cell_type": "code",
   "execution_count": null,
   "id": "b926b644-6934-47b0-b0e2-831524a541fc",
   "metadata": {},
   "outputs": [],
   "source": []
  }
 ],
 "metadata": {
  "kernelspec": {
   "display_name": "R",
   "language": "R",
   "name": "ir"
  },
  "language_info": {
   "codemirror_mode": "r",
   "file_extension": ".r",
   "mimetype": "text/x-r-source",
   "name": "R",
   "pygments_lexer": "r",
   "version": "3.6.1"
  }
 },
 "nbformat": 4,
 "nbformat_minor": 5
}
