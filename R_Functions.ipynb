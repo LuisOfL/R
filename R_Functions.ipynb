{
 "cells": [
  {
   "cell_type": "markdown",
   "id": "9891d30f-5be6-4549-8e14-46a3167c3d3b",
   "metadata": {},
   "source": [
    "# R Functions"
   ]
  },
  {
   "cell_type": "markdown",
   "id": "50bcd40b-ba70-4376-9c06-d6af4f0d6f75",
   "metadata": {},
   "source": [
    "Mathematical Functions"
   ]
  },
  {
   "cell_type": "markdown",
   "id": "f04edebc-3802-4451-96db-76e729f141ba",
   "metadata": {},
   "source": [
    "sum(x)   The function returns the sum of all elements"
   ]
  },
  {
   "cell_type": "code",
   "execution_count": 1,
   "id": "b2935fac-6422-4ab5-8c08-7c8dcde5c2a3",
   "metadata": {},
   "outputs": [
    {
     "name": "stdout",
     "output_type": "stream",
     "text": [
      "[1] 25\n"
     ]
    }
   ],
   "source": [
    "l = c(2,4,5,2,4,6,2)\n",
    "print(sum(l))"
   ]
  },
  {
   "cell_type": "markdown",
   "id": "29fd68ca-1862-4898-bc89-a61b37ba7ec5",
   "metadata": {},
   "source": [
    "mean() The function returns the mean of all elements"
   ]
  },
  {
   "cell_type": "code",
   "execution_count": 2,
   "id": "7e4eba98-b6a0-4c81-908a-51f365cc482f",
   "metadata": {},
   "outputs": [
    {
     "name": "stdout",
     "output_type": "stream",
     "text": [
      "[1] 4.285714\n"
     ]
    }
   ],
   "source": [
    "l = c(1,3,6,7,3,7,3)\n",
    "print(mean(l))"
   ]
  },
  {
   "cell_type": "markdown",
   "id": "cad8ce77-328e-44e9-ad21-d2e1cd04ffb9",
   "metadata": {},
   "source": [
    "median() The function returns the median of the data"
   ]
  },
  {
   "cell_type": "code",
   "execution_count": 3,
   "id": "f0cfc065-4a69-4d51-863e-4112fccede93",
   "metadata": {},
   "outputs": [
    {
     "name": "stdout",
     "output_type": "stream",
     "text": [
      "[1] 179\n"
     ]
    }
   ],
   "source": [
    "l = c(34,324,2,423)\n",
    "print(median(l))"
   ]
  },
  {
   "cell_type": "markdown",
   "id": "7a3fb8d1-fe7d-4e27-a9cc-dbe7fcd6ea6a",
   "metadata": {},
   "source": [
    "min()/max()  These functions return the maximum and minimum of a data structure"
   ]
  },
  {
   "cell_type": "code",
   "execution_count": 7,
   "id": "82172185-f337-4166-9ba8-aba734ba3cb7",
   "metadata": {},
   "outputs": [
    {
     "name": "stdout",
     "output_type": "stream",
     "text": [
      "[1] \"minimum: 0 maximum: 89\"\n"
     ]
    }
   ],
   "source": [
    "l = c(1,2,34,6,7,89,9,9,0,3,2,34,52)\n",
    "print(paste('minimum:' ,min(l),'maximum:',max(l)))"
   ]
  },
  {
   "cell_type": "markdown",
   "id": "91fdd769-d8fb-4899-bb22-90e062c439b5",
   "metadata": {},
   "source": [
    "length(c(1,2,3))   # longitud → 3  \n",
    "sort(c(3,1,2))     # ordenar → 1 2 3    \n",
    "unique(c(1,1,2,3)) # valores únicos → 1 2 3  "
   ]
  },
  {
   "cell_type": "markdown",
   "id": "883af90b-f949-4453-971b-97eed6dc19da",
   "metadata": {},
   "source": [
    "nchar(\"Hola\")         # número de caracteres → 4  \n",
    "toupper(\"hola\")       # mayúsculas → \"HOLA\"  \n",
    "tolower(\"HOLA\")       # minúsculas → \"hola\"  \n",
    "paste(\"Hola\", \"Mundo\") # concatenar → \"Hola Mundo\"  "
   ]
  },
  {
   "cell_type": "code",
   "execution_count": null,
   "id": "a2f38450-2291-4ac5-8a99-516e61aa0e65",
   "metadata": {},
   "outputs": [],
   "source": []
  }
 ],
 "metadata": {
  "kernelspec": {
   "display_name": "R",
   "language": "R",
   "name": "ir"
  },
  "language_info": {
   "codemirror_mode": "r",
   "file_extension": ".r",
   "mimetype": "text/x-r-source",
   "name": "R",
   "pygments_lexer": "r",
   "version": "3.6.1"
  }
 },
 "nbformat": 4,
 "nbformat_minor": 5
}
